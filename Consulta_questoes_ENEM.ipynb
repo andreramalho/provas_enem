{
  "nbformat": 4,
  "nbformat_minor": 0,
  "metadata": {
    "colab": {
      "provenance": [],
      "authorship_tag": "ABX9TyOqWrPFyac74UZnnwbk4hd6",
      "include_colab_link": true
    },
    "kernelspec": {
      "name": "python3",
      "display_name": "Python 3"
    },
    "language_info": {
      "name": "python"
    }
  },
  "cells": [
    {
      "cell_type": "markdown",
      "metadata": {
        "id": "view-in-github",
        "colab_type": "text"
      },
      "source": [
        "<a href=\"https://colab.research.google.com/github/andreramalho/provas_enem/blob/main/Consulta_questoes_ENEM.ipynb\" target=\"_parent\"><img src=\"https://colab.research.google.com/assets/colab-badge.svg\" alt=\"Open In Colab\"/></a>"
      ]
    },
    {
      "cell_type": "code",
      "source": [],
      "metadata": {
        "id": "freBsQ4ECgwg"
      },
      "execution_count": null,
      "outputs": []
    },
    {
      "cell_type": "code",
      "execution_count": null,
      "metadata": {
        "id": "N-I31jKWB225"
      },
      "outputs": [],
      "source": [
        "def texto_xmltoDF_ENEM(pasta, XMLs):\n",
        "  #prstree = ETree.fromstring(caminho+XMLs[0])\n",
        "  print(XMLs)\n",
        "  for XML in range(len(XMLs)):\n",
        "    tree = ETree.parse(caminho+XMLs[XML])\n",
        "    prstree = tree.getroot()\n",
        "    root = prstree.tag\n",
        "    print(root)\n",
        "\n",
        "    questao_items = []\n",
        "    all_items = []\n",
        "\n",
        "    for testno in prstree.findall('QUESTAO'):\n",
        "      questao_Nr = testno.attrib.get('qtsNo')\n",
        "      ano = testno.find('ANO').text\n",
        "      area = testno.find('AREA').text\n",
        "      versao = testno.find('VERSAO').text\n",
        "      question = testno.find('ENUNCIADO').text\n",
        "      A = testno.find('ALTERNATIVA_A').text\n",
        "      B = testno.find('ALTERNATIVA_B').text\n",
        "      C = testno.find('ALTERNATIVA_C').text\n",
        "      D = testno.find('ALTERNATIVA_D').text\n",
        "      E = testno.find('ALTERNATIVA_E').text\n",
        "      #Q_true = testno.find('CORRETA').text\n",
        "\n",
        "      store_items = [ano,versao,area,questao_Nr,question,A,B,C,D,E]#,Q_true]\n",
        "      all_items.append(store_items)\n",
        "      #print(store_items)\n",
        "\n",
        "    xmlToDf = pd.DataFrame(all_items,columns=[\n",
        "        'ano','versao','area','questao_Nr','question','A','B','C','D','E']) #,'Q_true'\n",
        "\n",
        "    #print(xmlToDf.to_string(index=False))\n",
        "  return xmlToDf"
      ]
    },
    {
      "cell_type": "code",
      "source": [
        "\n",
        "Df = texto_xmltoDF_ENEM(caminho, XMLs)"
      ],
      "metadata": {
        "id": "Op0_gZqhCR44"
      },
      "execution_count": null,
      "outputs": []
    },
    {
      "cell_type": "code",
      "source": [],
      "metadata": {
        "id": "RnjrtX2aCf0p"
      },
      "execution_count": null,
      "outputs": []
    }
  ]
}