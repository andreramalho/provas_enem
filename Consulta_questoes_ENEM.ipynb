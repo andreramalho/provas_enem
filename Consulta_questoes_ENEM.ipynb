{
  "nbformat": 4,
  "nbformat_minor": 0,
  "metadata": {
    "colab": {
      "provenance": [],
      "gpuType": "T4"
    },
    "kernelspec": {
      "name": "python3",
      "display_name": "Python 3"
    },
    "language_info": {
      "name": "python"
    },
    "accelerator": "GPU"
  },
  "cells": [
    {
      "cell_type": "code",
      "source": [
        "import pandas as pd\n",
        "import numpy as np\n",
        "import xml.etree.ElementTree as ETree\n",
        "import os"
      ],
      "metadata": {
        "id": "freBsQ4ECgwg"
      },
      "execution_count": null,
      "outputs": []
    },
    {
      "cell_type": "code",
      "execution_count": null,
      "metadata": {
        "id": "N-I31jKWB225"
      },
      "outputs": [],
      "source": [
        "def texto_xmltoDF_ENEM(caminho, XMLs):\n",
        "  xmlToDf = pd.DataFrame(columns=['ano','versao','area','questao_Nr','question','A','B','C','D','E'])\n",
        "  for XML in range(len(XMLs)):\n",
        "    print(XMLs[XML])\n",
        "    tree = ETree.parse(caminho + XMLs[XML])\n",
        "    prstree = tree.getroot()\n",
        "    root = prstree.tag\n",
        "\n",
        "    questao_items = []\n",
        "    all_items = []\n",
        "\n",
        "    for testno in prstree.findall('QUESTAO'):\n",
        "      questao_Nr = testno.attrib.get('qtsNo')\n",
        "      ano = testno.find('ANO').text\n",
        "      area = testno.find('AREA').text\n",
        "      versao = testno.find('VERSAO').text\n",
        "      question = testno.find('ENUNCIADO').text\n",
        "      A = testno.find('ALTERNATIVA_A').text\n",
        "      B = testno.find('ALTERNATIVA_B').text\n",
        "      C = testno.find('ALTERNATIVA_C').text\n",
        "      D = testno.find('ALTERNATIVA_D').text\n",
        "      E = testno.find('ALTERNATIVA_E').text\n",
        "      #Q_true = testno.find('CORRETA').text\n",
        "\n",
        "      store_items = [ano,versao,area,questao_Nr,question,A,B,C,D,E]#,Q_true]\n",
        "      all_items.append(store_items)\n",
        "      #print(store_items)\n",
        "\n",
        "    temp = pd.DataFrame(all_items,columns=[\n",
        "        'ano','versao','area','questao_Nr','question','A','B','C','D','E']) #,'Q_true'\n",
        "    xmlToDf = pd.concat([xmlToDf, temp])\n",
        "    print(len(xmlToDf))\n",
        "\n",
        "    #print(xmlToDf.to_string(index=False))\n",
        "  return xmlToDf\n",
        "\n",
        "#Df = texto_xmltoDF_ENEM(caminho, XMLs)"
      ]
    },
    {
      "cell_type": "code",
      "source": [
        "user = 'andreramalho'\n",
        "repo = 'provas_enem'\n",
        "\n",
        "# remove local directory if it already exists\n",
        "if os.path.isdir(repo):\n",
        "    !rm -rf {repo}\n",
        "\n",
        "!git clone https://github.com/{user}/{repo}.git"
      ],
      "metadata": {
        "id": "j3y2Bc5PnOB-"
      },
      "execution_count": null,
      "outputs": []
    },
    {
      "cell_type": "code",
      "source": [
        "print(os.listdir(repo))\n",
        "os.getcwd()"
      ],
      "metadata": {
        "id": "uhvBsNf7nZ93"
      },
      "execution_count": null,
      "outputs": []
    },
    {
      "cell_type": "code",
      "source": [
        "#print(os.getcwd())\n",
        "temp = os.listdir(repo)\n",
        "XMLs = []\n",
        "for f in temp:\n",
        "  if f[-3:] == 'xml':\n",
        "    XMLs.append(f)\n",
        "print(XMLs)\n",
        "\n",
        "caminho = '/content/provas_enem/'\n",
        "Df = texto_xmltoDF_ENEM(caminho, XMLs)\n",
        "Df.reset_index(drop=True, inplace=True)"
      ],
      "metadata": {
        "id": "RnjrtX2aCf0p"
      },
      "execution_count": null,
      "outputs": []
    },
    {
      "cell_type": "code",
      "source": [
        "\n",
        "len(Df)"
      ],
      "metadata": {
        "id": "jFtCZh9XvNHO"
      },
      "execution_count": null,
      "outputs": []
    },
    {
      "cell_type": "code",
      "source": [
        "results = pd.read_csv('/content/provas_enem/_subgrupos_glove_300.csv')"
      ],
      "metadata": {
        "id": "4cc1Nb2BqiJ9"
      },
      "execution_count": null,
      "outputs": []
    },
    {
      "cell_type": "code",
      "source": [
        "Dff = pd.concat([results, Df], axis=1)\n",
        "Dff.head()"
      ],
      "metadata": {
        "id": "V8xsKqeGuRDW"
      },
      "execution_count": null,
      "outputs": []
    },
    {
      "cell_type": "code",
      "source": [
        "# 32 - grupo homogenio\n",
        "#\n",
        "Dff.loc[Dff['grupos'] == 7]"
      ],
      "metadata": {
        "id": "_Bo_kTYCuSWk"
      },
      "execution_count": null,
      "outputs": []
    },
    {
      "cell_type": "code",
      "source": [],
      "metadata": {
        "id": "g1619RDC5fMp"
      },
      "execution_count": null,
      "outputs": []
    }
  ]
}
